{
 "cells": [
  {
   "cell_type": "code",
   "execution_count": null,
   "metadata": {},
   "outputs": [],
   "source": [
    "!pip install pyyaml==5.1\n",
    "# This is the current pytorch version on Colab. Uncomment this if Colab changes its pytorch version\n",
    "# !pip install torch==1.9.0+cu111 torchvision==0.10.0+cu111 -f https://download.pytorch.org/whl/torch_stable.html\n",
    "\n",
    "# Install detectron2 that matches the above pytorch version\n",
    "# See https://detectron2.readthedocs.io/tutorials/install.html for instructions\n",
    "!pip install detectron2 -f https://dl.fbaipublicfiles.com/detectron2/wheels/cu111/torch1.9/index.html\n",
    "# exit(0)  # After installation, you need to \"restart runtime\" in Colab. This line can also restart runtime"
   ]
  },
  {
   "cell_type": "code",
   "execution_count": null,
   "metadata": {},
   "outputs": [],
   "source": [
    "!pip install pyyaml==5.1\n",
    "# This is the current pytorch version on Colab. Uncomment this if Colab changes its pytorch version\n",
    "# !pip install torch==1.9.0+cu111 torchvision==0.10.0+cu111 -f https://download.pytorch.org/whl/torch_stable.html\n",
    "\n",
    "# Install detectron2 that matches the above pytorch version\n",
    "# See https://detectron2.readthedocs.io/tutorials/install.html for instructions\n",
    "!pip install detectron2 -f https://dl.fbaipublicfiles.com/detectron2/wheels/cu111/torch1.9/index.html\n",
    "# exit(0)  # After installation, you need to \"restart runtime\" in Colab. This line can also restart runtime"
   ]
  },
  {
   "cell_type": "code",
   "execution_count": null,
   "metadata": {},
   "outputs": [],
   "source": [
    "!pwd"
   ]
  },
  {
   "cell_type": "code",
   "execution_count": null,
   "metadata": {},
   "outputs": [],
   "source": [
    "# Some basic setup:\n",
    "# Setup detectron2 logger\n",
    "import detectron2\n",
    "from detectron2.utils.logger import setup_logger\n",
    "setup_logger()\n",
    "\n",
    "# import some common libraries\n",
    "import numpy as np\n",
    "import os, json, cv2, random\n",
    "from google.colab.patches import cv2_imshow\n",
    "\n",
    "# import some common detectron2 utilities\n",
    "from detectron2 import model_zoo\n",
    "from detectron2.engine import DefaultPredictor\n",
    "from detectron2.config import get_cfg\n",
    "from detectron2.utils.visualizer import Visualizer\n",
    "from detectron2.data import MetadataCatalog, DatasetCatalog"
   ]
  },
  {
   "cell_type": "code",
   "execution_count": null,
   "metadata": {},
   "outputs": [],
   "source": [
    "# look at the outputs. See https://detectron2.readthedocs.io/tutorials/models.html#model-output-format for specification\n",
    "n = 458\n",
    "path ='../terrorist.mp4'\n",
    "# tracker = cv2.TrackerTLD_create()\n",
    "tracker = cv2.TrackerKCF_create()\n",
    "run_once = 0\n",
    "for j in range(n):\n",
    "\n",
    "        \n",
    "  image_path = os.path.join('../frame' + str(j) + '.jpg')\n",
    "  im = cv2.imread(image_path)\n",
    "  outputs = predictor(im)\n",
    "\n",
    "  pred_classes = outputs[\"instances\"].pred_classes.cpu().detach().numpy()\n",
    "  pred_boxes = outputs[\"instances\"].pred_boxes\n",
    "  boxes =[]\n",
    "\n",
    "  # print(list(pred_boxes[0]))\n",
    "  for i in range(len(outputs[\"instances\"].pred_classes)):\n",
    "    if(outputs[\"instances\"].pred_classes[i] == 0):\n",
    "      predi_classes.append(pred_classes[i])\n",
    "      boxes = (list(pred_boxes)[i].cpu().detach().numpy())\n",
    "      predi_boxes.append(boxes[0])\n",
    "      print(boxes)\n",
    "      start_point = (boxes[0],boxes[1])\n",
    "      end_point = (boxes[2],boxes[3])\n",
    "\n",
    "      im = cv2.rectangle(im, start_point, end_point, (0,255,0) , 2)\n",
    "      cv2_imshow(im)\n",
    "      key = cv2.waitKey(1) & 0xFF\n",
    "      if key == ord(\"q\"):\n",
    "        break\n",
    "  if(len(boxes) != 0):\n",
    "    if( run_once == 0):\n",
    "      bo = boxes\n",
    "      bo[2] = int(bo[2] - bo[0])\n",
    "      bo[3] = int(bo[3] - bo[1])\n",
    "      bo[0] = int(bo[0])\n",
    "      bo[1] = int(bo[1])\n",
    "      bo = tuple(bo)\n",
    "      print(\"bo\", bo)\n",
    "      ok = tracker.init(im, bo)\n",
    "      run_once =1\n",
    "  \n",
    "  if(run_once == 1):\n",
    "    ok, bbox = tracker.update(im)\n",
    "    if ok:\n",
    "      p1 = (int(bbox[0]), int(bbox[1]))\n",
    "      p2 = (int(bbox[0] + bbox[2]), int(bbox[1] + bbox[3]))\n",
    "      cv2.rectangle(im, p1, p2, (255,0,0), 2, 1)\n",
    "    else:\n",
    "      cv2.putText(im, \"Tracking failure detected\", (100,80), cv2.FONT_HERSHEY_SIMPLEX, 0.75,(0,0,255),2)\n",
    "      run_once = 0\n",
    "      \n",
    "  cv2.imwrite('/content/drive/MyDrive/frames/frame'+str(j)+'.jpg',im)\n",
    "\n",
    "  \n",
    "\n",
    "\n",
    "print(predi_classes)\n",
    "print(boxes)\n",
    "cv2_imshow(im)"
   ]
  }
 ],
 "metadata": {
  "kernelspec": {
   "display_name": "Python 3",
   "language": "python",
   "name": "python3"
  },
  "language_info": {
   "codemirror_mode": {
    "name": "ipython",
    "version": 3
   },
   "file_extension": ".py",
   "mimetype": "text/x-python",
   "name": "python",
   "nbconvert_exporter": "python",
   "pygments_lexer": "ipython3",
   "version": "3.7.6"
  }
 },
 "nbformat": 4,
 "nbformat_minor": 4
}
